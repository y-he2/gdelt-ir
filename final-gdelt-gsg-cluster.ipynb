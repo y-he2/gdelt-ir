{
 "cells": [
  {
   "cell_type": "code",
   "execution_count": null,
   "id": "eIIppF5JC78-",
   "metadata": {
    "colab": {
     "base_uri": "https://localhost:8080/"
    },
    "id": "eIIppF5JC78-",
    "outputId": "bf8fcf98-8695-4360-a323-5334cd3d0294"
   },
   "outputs": [],
   "source": [
    "## Categorical Color Map from Fabio\n",
    "import random\n",
    "\n",
    "cm_data = [[0.0051932, 0.098238, 0.34984],\n",
    "           [0.98135, 0.80041, 0.98127],\n",
    "           [0.51125, 0.5109, 0.1933],\n",
    "           [0.1333, 0.37528, 0.3794],\n",
    "           [0.94661, 0.61422, 0.41977],\n",
    "           [0.066899, 0.26319, 0.37759],\n",
    "           [0.9929, 0.70485, 0.70411],\n",
    "           [0.30238, 0.45028, 0.30012],\n",
    "           [0.75427, 0.56503, 0.21176],\n",
    "           [0.40297, 0.48047, 0.24473],\n",
    "           [0.98909, 0.75097, 0.83798],\n",
    "           [0.63151, 0.54075, 0.17007],\n",
    "           [0.98757, 0.65842, 0.56623],\n",
    "           [0.20908, 0.41741, 0.34968],\n",
    "           [0.049378, 0.19108, 0.36581],\n",
    "           [0.088353, 0.32217, 0.38473],\n",
    "           [0.85875, 0.58444, 0.29557],\n",
    "           [0.97342, 0.63518, 0.49255],\n",
    "           [0.16795, 0.39789, 0.36778],\n",
    "           [0.57002, 0.52619, 0.17527],\n",
    "           [0.35198, 0.46544, 0.27249],\n",
    "           [0.10684, 0.34977, 0.38455],\n",
    "           [0.99137, 0.72761, 0.77027],\n",
    "           [0.69372, 0.5538, 0.18261],\n",
    "           [0.032053, 0.14677, 0.35824],\n",
    "           [0.075833, 0.29332, 0.38192],\n",
    "           [0.25445, 0.43453, 0.32643],\n",
    "           [0.90724, 0.59732, 0.35314],\n",
    "           [0.059164, 0.22984, 0.37225],\n",
    "           [0.98598, 0.77527, 0.90845],\n",
    "           [0.99259, 0.68191, 0.63687],\n",
    "           [0.45577, 0.49558, 0.21777],\n",
    "           [0.81169, 0.57519, 0.25257],\n",
    "           [0.66269, 0.5475, 0.17404],\n",
    "           [0.98767, 0.763, 0.87286],\n",
    "           [0.18789, 0.408, 0.35948],\n",
    "           [0.99226, 0.71621, 0.73715],\n",
    "           [0.019936, 0.12298, 0.35412],\n",
    "           [0.42909, 0.48801, 0.2311],\n",
    "           [0.071115, 0.2785, 0.37989],\n",
    "           [0.23136, 0.4262, 0.33857],\n",
    "           [0.081553, 0.30786, 0.3836],\n",
    "           [0.78342, 0.57016, 0.23096],\n",
    "           [0.88388, 0.59045, 0.32319],\n",
    "           [0.27817, 0.44252, 0.31355],\n",
    "           [0.054721, 0.21123, 0.36918],\n",
    "           [0.042104, 0.16956, 0.36215],\n",
    "           [0.063071, 0.24709, 0.37505],\n",
    "           [0.11899, 0.36285, 0.38271],\n",
    "           [0.096618, 0.33616, 0.38513],\n",
    "           [0.98391, 0.78776, 0.94463],\n",
    "           [0.98192, 0.64666, 0.5296],\n",
    "           [0.99093, 0.67023, 0.60203],\n",
    "           [0.14971, 0.38698, 0.37445],\n",
    "           [0.37729, 0.47295, 0.25859],\n",
    "           [0.54023, 0.51858, 0.1831],\n",
    "           [0.99031, 0.73918, 0.80381],\n",
    "           [0.99311, 0.69345, 0.67081],\n",
    "           [0.9617, 0.62428, 0.4557],\n",
    "           [0.48312, 0.50322, 0.20504],\n",
    "           [0.60052, 0.5336, 0.17065],\n",
    "           [0.92832, 0.60521, 0.3854],\n",
    "           [0.32701, 0.4579, 0.28638],\n",
    "           [0.72432, 0.55963, 0.19541],\n",
    "           [0.83227, 0.57903, 0.27021],\n",
    "           [0.97805, 0.64087, 0.51109],\n",
    "           [0.99307, 0.69916, 0.68752],\n",
    "           [0.95457, 0.61914, 0.43758],\n",
    "           [0.36459, 0.46921, 0.26554],\n",
    "           [0.22011, 0.42186, 0.34426],\n",
    "           [0.045905, 0.18046, 0.36401],\n",
    "           [0.9895, 0.66433, 0.58425],\n",
    "           [0.061052, 0.23862, 0.37369],\n",
    "           [0.012963, 0.11078, 0.35199],\n",
    "           [0.15862, 0.39253, 0.37132],\n",
    "           [0.98841, 0.75695, 0.85533],\n",
    "           [0.79767, 0.57268, 0.24149],\n",
    "           [0.31465, 0.45411, 0.29328],\n",
    "           [0.99297, 0.68771, 0.65393],\n",
    "           [0.76894, 0.56763, 0.22105],\n",
    "           [0.6471, 0.54418, 0.17146],\n",
    "           [0.39007, 0.47671, 0.25166],\n",
    "           [0.985, 0.7815, 0.92647],\n",
    "           [0.98507, 0.65252, 0.548],\n",
    "           [0.026291, 0.13504, 0.35621],\n",
    "           [0.078517, 0.30062, 0.38281],\n",
    "           [0.46937, 0.49939, 0.21132],\n",
    "           [0.5852, 0.52993, 0.17249],\n",
    "           [0.14126, 0.38124, 0.37713],\n",
    "           [0.41597, 0.48423, 0.23789],\n",
    "           [0.29021, 0.44642, 0.30689],\n",
    "           [0.07344, 0.28594, 0.38096],\n",
    "           [0.98687, 0.7691, 0.89057],\n",
    "           [0.24279, 0.43042, 0.33263],\n",
    "           [0.99194, 0.67609, 0.61958],\n",
    "           [0.052164, 0.20132, 0.36752],\n",
    "           [0.44237, 0.4918, 0.22435],\n",
    "           [0.064936, 0.25526, 0.37636],\n",
    "           [0.19831, 0.4128, 0.35477],\n",
    "           [0.98972, 0.74504, 0.8208]]\n",
    "\n",
    "cm_hex = []\n",
    "cm_data_samples = random.sample( cm_data, 50 )\n",
    "for rgb in cm_data_samples:\n",
    "  cm_hex.append( '#%02x%02x%02x' % tuple( [int( cc*2*256 ) for cc in rgb] ) )\n",
    "len( cm_hex )"
   ]
  },
  {
   "cell_type": "markdown",
   "id": "PJufmf5w8gn7",
   "metadata": {
    "id": "PJufmf5w8gn7"
   },
   "source": [
    "# GDELT-IR Project\n",
    "\n",
    "This is the notebook for us to have a common workspace to work on the GDELT-IR project for IR course."
   ]
  },
  {
   "cell_type": "markdown",
   "id": "_0lbkhQ5YF65",
   "metadata": {
    "id": "_0lbkhQ5YF65"
   },
   "source": [
    "## Shared Data Source"
   ]
  },
  {
   "cell_type": "code",
   "execution_count": null,
   "id": "463a8b65-359a-4313-82d4-68155acb9448",
   "metadata": {},
   "outputs": [],
   "source": [
    "##TODO: add auto data source download.\n",
    "## The data is described in the report."
   ]
  },
  {
   "cell_type": "markdown",
   "id": "WpEetXwxZcgJ",
   "metadata": {
    "id": "WpEetXwxZcgJ"
   },
   "source": [
    "## Setup Environment"
   ]
  },
  {
   "cell_type": "code",
   "execution_count": null,
   "id": "223032b1-f9da-4689-9b67-47ad0d01aa51",
   "metadata": {
    "colab": {
     "base_uri": "https://localhost:8080/"
    },
    "id": "223032b1-f9da-4689-9b67-47ad0d01aa51",
    "outputId": "1dd779a3-c758-48b8-f47d-725485c3500b"
   },
   "outputs": [],
   "source": [
    "import numpy as np\n",
    "\n",
    "## UMAP for clustering\n",
    "try:\n",
    "  # import umap\n",
    "  import umap.umap_ as umap # Workaround for: AttributeError: module 'umap' has no attribute 'UMAP'\n",
    "except:\n",
    "  print( \"UMAP not installed, installing...\")\n",
    "  !pip install umap-learn\n",
    "  import umap.umap_ as umap # Workaround for: AttributeError: module 'umap' has no attribute 'UMAP'\n",
    "\n",
    "## PyEChart for interactive charts\n",
    "try:\n",
    "  import pyecharts\n",
    "except:\n",
    "  print( \"pyecharts not installed, installing...\")\n",
    "  !pip install pyecharts\n",
    "  import pyecharts.options as opts\n",
    "  from pyecharts.commons.utils import JsCode\n",
    "  from pyecharts.charts import Scatter\n",
    "import pyecharts.options as opts\n",
    "from pyecharts.commons.utils import JsCode\n",
    "from pyecharts.charts import Scatter\n",
    "\n",
    "from IPython.display import HTML\n",
    "\n",
    "\n",
    "import pandas as pd\n",
    "from sklearn.datasets import load_digits\n",
    "from sklearn.model_selection import train_test_split\n",
    "from sklearn.preprocessing import StandardScaler\n",
    "import matplotlib.pyplot as plt\n",
    "import seaborn as sns"
   ]
  },
  {
   "cell_type": "markdown",
   "id": "RMHMPDNT8mcL",
   "metadata": {
    "id": "RMHMPDNT8mcL"
   },
   "source": [
    "## Visualization Experiment"
   ]
  },
  {
   "cell_type": "markdown",
   "id": "tNnl3wk6n3_-",
   "metadata": {
    "id": "tNnl3wk6n3_-"
   },
   "source": [
    "# Interactive Visualization"
   ]
  },
  {
   "cell_type": "markdown",
   "id": "mAKyy0GmjmFS",
   "metadata": {
    "id": "mAKyy0GmjmFS"
   },
   "source": [
    "## Bigger Experiment on Turkey Earth Quake"
   ]
  },
  {
   "cell_type": "code",
   "execution_count": null,
   "id": "41bL1IW2eXvg",
   "metadata": {
    "colab": {
     "base_uri": "https://localhost:8080/",
     "height": 423
    },
    "id": "41bL1IW2eXvg",
    "outputId": "6fcc3381-8f11-4f30-dc29-288e15cc816c"
   },
   "outputs": [],
   "source": [
    "##WARNING: Large file, could take a long time to load.\n",
    "df_earthquake = pd.read_parquet( \"/content/drive/MyDrive/gdelt-ir/gdelt-data/gdelt-data/gsg_2020-11-16_2020-11-19_20_perc.parquet.br\" ) # 0.04 COVID Nov\n",
    "#df_earthquake = pd.read_parquet( \"/content/drive/MyDrive/gdelt-ir/gdelt-data/gsg_2022-02-23_2022-02-26_20_perc.parquet.br\" ) # UKRAINIAN WAR\n",
    "#df_earthquake = pd.read_parquet( \"/content/drive/MyDrive/gdelt-ir/gdelt-data/gsg_2024-04-13_2024-04-16_20_perc.parquet.br\" ) # Iran - Israel\n",
    "#df_earthquake = pd.read_parquet( \"/content/drive/MyDrive/gdelt-ir/gdelt-data/gsg_2024-04-30_2024-05-03_20_perc.parquet.br\" ) # Palestian protest\n",
    "\n",
    "df_earthquake"
   ]
  },
  {
   "cell_type": "code",
   "execution_count": null,
   "id": "OdIJWdwjes8I",
   "metadata": {
    "colab": {
     "base_uri": "https://localhost:8080/",
     "height": 423
    },
    "id": "OdIJWdwjes8I",
    "outputId": "d0784b48-32af-4b1c-c1b1-9e97cd8b56b0"
   },
   "outputs": [],
   "source": [
    "df_earthquake_mini = df_earthquake.query( \"lang == 'ENGLISH'\" ).sample( frac = 0.04 ) # COVID Nov\n",
    "# df_earthquake_mini = df_earthquake.query( \"lang == 'ENGLISH'\" ).sample( frac = 0.06 ) # UKRAINIAN WAR\n",
    "#df_earthquake_mini = df_earthquake.query( \"lang == 'ENGLISH'\" ).sample( frac = 0.15 ) # Iran - Israel\n",
    "#df_earthquake_mini = df_earthquake.query( \"lang == 'ENGLISH'\" ).sample( frac = 0.15 ) # Palestian protest\n",
    "\n",
    "#df_earthquake_mini = df_earthquake.sample( frac = 0.03 )\n",
    "df_earthquake_mini"
   ]
  },
  {
   "cell_type": "code",
   "execution_count": null,
   "id": "QSLjlBQIrOGh",
   "metadata": {
    "colab": {
     "base_uri": "https://localhost:8080/"
    },
    "id": "QSLjlBQIrOGh",
    "outputId": "d8f9bb48-d493-4949-ce5c-b014d751cc6f"
   },
   "outputs": [],
   "source": [
    "emb_earthquake_mini = df_earthquake_mini.docembed.tolist()\n",
    "len( emb_earthquake_mini )\n"
   ]
  },
  {
   "cell_type": "markdown",
   "id": "iBTgwYVDa5lM",
   "metadata": {
    "id": "iBTgwYVDa5lM"
   },
   "source": [
    "# UMAP"
   ]
  },
  {
   "cell_type": "code",
   "execution_count": null,
   "id": "XnbXO8VBeWHU",
   "metadata": {
    "colab": {
     "base_uri": "https://localhost:8080/",
     "height": 466,
     "referenced_widgets": [
      "f6ecf1bc5a2349d29c1e2da275c8f147",
      "c150b934102f4394965b0e6e5795e8f9",
      "0d78ea48202741f39170b4c020149d61",
      "88a93ac765cd47318dedbd907d2cc11d",
      "29f5da79fa164cafb90e1e408c3f6690",
      "32386a4f1e644a7c9a49bf33a213096d",
      "1bbaf7e5a885437db43c79f81cbc9316",
      "be94b10e90534a389df751d736b15fed",
      "0fea6e160d3e47d1a68a4cc70456d177",
      "e0d02101f6b64bfdaabe20684fff47e4",
      "269e7b6224884c9389ff306768fb1460"
     ]
    },
    "id": "XnbXO8VBeWHU",
    "outputId": "0a7a5e2f-10d0-4645-e6e6-49077b91e009"
   },
   "outputs": [],
   "source": [
    "umap_reducer = umap.UMAP(\n",
    "  n_neighbors = 50,\n",
    "  negative_sample_rate = 15,\n",
    "  repulsion_strength = 0.05,\n",
    "  metric = 'cosine',\n",
    "  n_components = 2,\n",
    "  # n_epochs = 200,\n",
    "  min_dist = 0.0,\n",
    "  spread = 3,\n",
    "  transform_queue_size = 5,\n",
    "  # negative_sample_rate = 5,\n",
    "  # random_state=123456789\n",
    "  verbose = True\n",
    ")\n",
    "emb_2d_earthquake_mini = umap_reducer.fit_transform( emb_earthquake_mini )\n",
    "emb_2d_earthquake_mini.shape"
   ]
  },
  {
   "cell_type": "markdown",
   "id": "IjqeqqKXa77l",
   "metadata": {
    "id": "IjqeqqKXa77l"
   },
   "source": [
    "# PaCMAP"
   ]
  },
  {
   "cell_type": "code",
   "execution_count": null,
   "id": "FzGuX2OuaHgL",
   "metadata": {
    "id": "FzGuX2OuaHgL"
   },
   "outputs": [],
   "source": [
    "# !pip install pacmap"
   ]
  },
  {
   "cell_type": "code",
   "execution_count": null,
   "id": "JaC_U1wwa-u9",
   "metadata": {
    "id": "JaC_U1wwa-u9"
   },
   "outputs": [],
   "source": [
    "# import pacmap\n",
    "\n",
    "# # initializing the pacmap instance\n",
    "# # Setting n_neighbors to \"None\" leads to a default choice shown below in \"parameter\" section\n",
    "# pacmap_reducer = pacmap.PaCMAP(\n",
    "#   n_components = 2,\n",
    "#   n_neighbors = 10,\n",
    "#   MN_ratio = 0.5,\n",
    "#   FP_ratio = 2.0,\n",
    "#   distance=\"angular\",\n",
    "#   # verbose = True\n",
    "# )\n",
    "\n",
    "# # fit the data (The index of transformed data corresponds to the index of the original data)\n",
    "# emb_2d_earthquake_mini = pacmap_reducer.fit_transform( emb_earthquake_mini, init=\"pca\" )\n",
    "# emb_2d_earthquake_mini.shape"
   ]
  },
  {
   "cell_type": "markdown",
   "id": "g14aYhZxd5MB",
   "metadata": {
    "id": "g14aYhZxd5MB"
   },
   "source": [
    "# Clustering (labelling)"
   ]
  },
  {
   "cell_type": "code",
   "execution_count": null,
   "id": "iqNPd0q_kxPh",
   "metadata": {
    "colab": {
     "base_uri": "https://localhost:8080/"
    },
    "id": "iqNPd0q_kxPh",
    "outputId": "9efee94b-c6d1-48d6-b83e-a81e0956eab7"
   },
   "outputs": [],
   "source": [
    "from sklearn.mixture import BayesianGaussianMixture\n",
    "\n",
    "if 1:\n",
    "  bgm = BayesianGaussianMixture(\n",
    "      n_components = 150,\n",
    "      # covariance_type = \"diag\",\n",
    "      # weight_concentration_prior_type = \"dirichlet_distribution\",\n",
    "      weight_concentration_prior = 100000,\n",
    "      mean_precision_prior = 0.001,\n",
    "      degrees_of_freedom_prior = 50,\n",
    "      # reg_covar = 0,\n",
    "      random_state = 123456780,\n",
    "      max_iter = 1000,\n",
    "      init_params = \"k-means++\",\n",
    "      verbose = 2, verbose_interval = 50\n",
    "  )\n",
    "  cluster_labels = bgm.fit_predict(emb_2d_earthquake_mini)\n",
    "\n",
    "  # ## Apply QuantileTransform before clustering\n",
    "  # qt = QuantileTransformer( n_quantiles = 200, random_state=0 )\n",
    "  # embeddings_norm = qt.fit_transform( cluster_earthquake_mini )\n",
    "  # cluster_labels = bgm.fit_predict(embeddings_norm)"
   ]
  },
  {
   "cell_type": "markdown",
   "id": "SH8AB3ixRf2K",
   "metadata": {
    "id": "SH8AB3ixRf2K"
   },
   "source": [
    "## Ranking"
   ]
  },
  {
   "cell_type": "code",
   "execution_count": null,
   "id": "KHiB_RR-I9_2",
   "metadata": {
    "colab": {
     "base_uri": "https://localhost:8080/"
    },
    "id": "KHiB_RR-I9_2",
    "outputId": "54d30766-9e9c-4982-c261-9f1a0185cc75"
   },
   "outputs": [],
   "source": [
    "cluster_freq = {}\n",
    "for cls in set( cluster_labels ):\n",
    "  cluster_mask = (cluster_labels == cls)\n",
    "  df_filtered = df_earthquake_mini[ cluster_mask ]\n",
    "  max_freq_per_hour = df_filtered.set_index( \"date\" ).resample( \"12H\" ).url.count().max()\n",
    "  cluster_freq[ cls ] = max_freq_per_hour\n",
    "cluster_freq\n",
    "\n",
    "point_freq = np.asarray( [cluster_freq[ cls ] for cls in cluster_labels] )\n",
    "point_freq"
   ]
  },
  {
   "cell_type": "code",
   "execution_count": null,
   "id": "Rq7QxVCJgbwk",
   "metadata": {
    "colab": {
     "base_uri": "https://localhost:8080/"
    },
    "id": "Rq7QxVCJgbwk",
    "outputId": "ccbbb175-618f-4818-867d-203fdfbc23d8"
   },
   "outputs": [],
   "source": [
    "point_bgm_probs = bgm.predict_proba( emb_2d_earthquake_mini )\n",
    "point_bgm_probs = point_bgm_probs[ np.arange(len(point_bgm_probs)), cluster_labels ]\n",
    "point_bgm_probs"
   ]
  },
  {
   "cell_type": "code",
   "execution_count": null,
   "id": "BAYLZia023CK",
   "metadata": {
    "colab": {
     "base_uri": "https://localhost:8080/"
    },
    "id": "BAYLZia023CK",
    "outputId": "62d47af3-4193-46fe-c5e8-ec891ae78746"
   },
   "outputs": [],
   "source": [
    "cluster_bgm_areas = {}\n",
    "for cls in set( cluster_labels ):\n",
    "  cluster_filter = (cluster_labels == cls)\n",
    "  cov = np.cov( emb_2d_earthquake_mini[ cluster_filter, 0 ], emb_2d_earthquake_mini[ cluster_filter, 1 ] )\n",
    "  area = np.sqrt( np.linalg.det( cov ) )\n",
    "  cluster_bgm_areas[ cls ] = area if not np.isnan( area ) else 0\n",
    "\n",
    "## Normalizes area for each cluster to [0,1]\n",
    "area_min = min( [area for area in cluster_bgm_areas.values()] )\n",
    "area_max = max( [area for area in cluster_bgm_areas.values()] )\n",
    "cluster_bgm_areas = {kv[ 0 ]: (kv[ 1 ] - area_min)/(area_max - area_min + np.finfo( np.float32 ).eps) for kv in cluster_bgm_areas.items()}\n",
    "cluster_bgm_areas\n",
    "\n",
    "point_bgm_areas = np.asarray( [cluster_bgm_areas[ cls ] for cls in cluster_labels] )\n",
    "point_bgm_areas.shape"
   ]
  },
  {
   "cell_type": "code",
   "execution_count": null,
   "id": "wVFUv7FxN3cn",
   "metadata": {
    "colab": {
     "base_uri": "https://localhost:8080/"
    },
    "id": "wVFUv7FxN3cn",
    "outputId": "30f78faf-5afe-489c-f280-70bc12b93454"
   },
   "outputs": [],
   "source": [
    "point_bgm_scores = bgm.score_samples( emb_2d_earthquake_mini )\n",
    "point_bgm_scores = np.exp( point_bgm_scores )\n",
    "point_bgm_scores"
   ]
  },
  {
   "cell_type": "markdown",
   "id": "KtvPjye1a_pT",
   "metadata": {
    "id": "KtvPjye1a_pT"
   },
   "source": [
    "# Visualization"
   ]
  },
  {
   "cell_type": "markdown",
   "id": "AAuBZAdJk-qN",
   "metadata": {
    "id": "AAuBZAdJk-qN"
   },
   "source": [
    "## Function"
   ]
  },
  {
   "cell_type": "code",
   "execution_count": null,
   "id": "vG7_Cv82W0-6",
   "metadata": {
    "id": "vG7_Cv82W0-6"
   },
   "outputs": [],
   "source": [
    "import numpy as np\n",
    "from sklearn.preprocessing import QuantileTransformer\n",
    "from pyecharts.charts import Timeline\n",
    "\n",
    "\n",
    "def visualize(\n",
    "    df,\n",
    "    emb,\n",
    "    visual_scale = None,\n",
    "    cluster_labels = None,\n",
    "    compacting_label = True,\n",
    "    dot_size = 10,\n",
    "    quantile_transform = False,\n",
    "    opacity = 1,\n",
    "    color_map = None\n",
    "  ):\n",
    "  \"\"\" Generate and display a HTML page containing the visualization of the reduced embeddings in the DataFrame, with mouse hover tooltips.\n",
    "  Args:\n",
    "    df:\n",
    "      The dataframe to visualize, contain columns:\n",
    "      date: timestamp\n",
    "      title: the title of the news articles.\n",
    "      url: the URL of the news articles.\n",
    "    emb:\n",
    "      A 2D array of the low dimensional embedding of the news articles.\n",
    "    visual_scale:\n",
    "      a Numpy array (of or will be converted to) float to be visualized by VisualMap.\n",
    "    dot_size:\n",
    "      Dot size in the chart.\n",
    "    quantile_transform:\n",
    "      Normalize the outliers or not.\n",
    "  Note the order of all data rows must match.\n",
    "  \"\"\"\n",
    "\n",
    "  ## Normalize the bounds of the dots to reduce the impact of outliers.\n",
    "  qt = QuantileTransformer( n_quantiles = 200, random_state=0 )\n",
    "  if quantile_transform:\n",
    "    print( \"Quantile transform...\")\n",
    "    embeddings_norm = qt.fit_transform( emb )\n",
    "  else:\n",
    "    embeddings_norm = emb\n",
    "\n",
    "  df[ \"emb\" ] = embeddings_norm.tolist()\n",
    "  df = df.set_index( \"date\" ) # .sort_index()\n",
    "\n",
    "  VISUALMAP_OPS = None\n",
    "  if visual_scale is not None:\n",
    "    print( \"Processing visual scale...\")\n",
    "    visual_scale = visual_scale.astype( float )\n",
    "    visual_data = [\n",
    "        {\n",
    "            \"timestamp\": date,\n",
    "            \"title\": title,\n",
    "            \"data\": [data[ 0 ],data[ 1 ], date.to_pydatetime().timestamp(), cls],\n",
    "            \"url\": url\n",
    "        }\n",
    "          for date, url, title, data, cls in zip(\n",
    "            list( df.index ),\n",
    "            list( df.url ),\n",
    "            list( df.title ),\n",
    "            df.emb,\n",
    "            visual_scale\n",
    "          )\n",
    "    ]\n",
    "    DIMENSIION_CLUSTER_INDEX = 3\n",
    "    print( \"Visual scale range:\", visual_scale.min(), visual_scale.max() )\n",
    "    VISUALMAP_OPS = opts.VisualMapOpts(\n",
    "      type_ = 'color',\n",
    "      pos_top = 'middle',\n",
    "      min_ = visual_scale.min(),\n",
    "      max_ = visual_scale.max(),\n",
    "      precision = 4,\n",
    "      pos_left = 10,\n",
    "      dimension = DIMENSIION_CLUSTER_INDEX,\n",
    "      range_color = color_map,\n",
    "      range_opacity = opacity,\n",
    "      item_width = 30,\n",
    "      item_height = 400,\n",
    "    )\n",
    "  elif cluster_labels is not None:\n",
    "    cluster_labels_compact = None\n",
    "    print( \"Processing cluster labels...\")\n",
    "    ## Convert cluster labels to int\n",
    "    if( not isinstance( cluster_labels[ 0 ], int ) ):\n",
    "      cluster_labels = [int( label ) for label in cluster_labels]\n",
    "\n",
    "    cluster_labels = list( cluster_labels )\n",
    "\n",
    "    if compacting_label:\n",
    "      ## Compactize cluster labels to 1,2,3,...\n",
    "      label_mapping = {}\n",
    "      label_id = 0\n",
    "      for label in cluster_labels:\n",
    "        if label not in label_mapping:\n",
    "          label_mapping[ label ] = label_id\n",
    "          label_id += 1\n",
    "      print( \"Compact label mappings:\", label_mapping )\n",
    "      cluster_labels_compact = [label_mapping[ label ] for label in cluster_labels]\n",
    "    else:\n",
    "      cluster_labels_compact = cluster_labels\n",
    "\n",
    "    visual_data = [\n",
    "        {\n",
    "            \"timestamp\": date,\n",
    "            \"title\": title,\n",
    "            \"data\": [data[ 0 ],data[ 1 ], date.to_pydatetime().timestamp(), cls],\n",
    "            \"url\": url\n",
    "        }\n",
    "          for date, url, title, data, cls in zip(\n",
    "            list( df.index ),\n",
    "            list( df.url ),\n",
    "            list( df.title ),\n",
    "            df.emb,\n",
    "            cluster_labels_compact\n",
    "          )\n",
    "    ]\n",
    "    DIMENSIION_CLUSTER_INDEX = 3\n",
    "    CLUSTER_COUNT = max( cluster_labels_compact )\n",
    "    print( \"CLUSTER_COUNT:\", CLUSTER_COUNT )\n",
    "    VISUALMAP_OPS = opts.VisualMapOpts(\n",
    "      type_ = 'color',\n",
    "      pos_top = 'middle',\n",
    "      min_ = 0,\n",
    "      max_ = CLUSTER_COUNT,\n",
    "      pos_left = 10,\n",
    "      # split_number = CLUSTER_COUNT,\n",
    "      dimension = DIMENSIION_CLUSTER_INDEX,\n",
    "      # is_piecewise=True,\n",
    "      range_color = color_map,\n",
    "      range_opacity = opacity,\n",
    "      item_width = 30,\n",
    "      item_height = 400,\n",
    "    )\n",
    "  else:\n",
    "    visual_data = [\n",
    "        {\n",
    "            \"timestamp\": date,\n",
    "            \"title\": title,\n",
    "            \"data\": [data[ 0 ],data[ 1 ], date.to_pydatetime().timestamp()],\n",
    "            \"url\": url\n",
    "        }\n",
    "          for date, url, title, data in zip(\n",
    "            list( df.index ),\n",
    "            list( df.url ),\n",
    "            list( df.title ),\n",
    "            df.emb\n",
    "          )\n",
    "    ]\n",
    "  x_data = [{\"value\":item[ \"data\" ]} for item in visual_data]\n",
    "  y_data = [{\"timestamp\": item[ \"timestamp\" ], \"url\": item[ \"url\" ], \"title\": item[ \"title\" ], \"value\": item[ \"data\" ]} for item in visual_data]\n",
    "\n",
    "\n",
    "  print( \"Rendering...\")\n",
    "  current_scatter = (\n",
    "    Scatter(\n",
    "      init_opts=opts.InitOpts(\n",
    "        width=\"1200px\", height=\"800px\",\n",
    "        animation_opts=opts.AnimationOpts(\n",
    "          animation=False,\n",
    "          animation_threshold = 1\n",
    "        )\n",
    "      )\n",
    "    )\n",
    "    .add_xaxis(\n",
    "        xaxis_data = x_data\n",
    "    )\n",
    "    .add_yaxis(\n",
    "        series_name = \"News Embeddings Clustering\",\n",
    "        y_axis = y_data,\n",
    "        symbol_size = dot_size,\n",
    "        label_opts=opts.LabelOpts(is_show=False),\n",
    "        emphasis_opts = opts.EmphasisOpts(\n",
    "          focus = \"none\" if visual_scale is not None else \"self\",\n",
    "          itemstyle_opts = opts.ItemStyleOpts(\n",
    "            border_type = \"dashed\",\n",
    "            # opacity = 1.0,\n",
    "            border_width = 100,\n",
    "          ),\n",
    "        )\n",
    "    )\n",
    "    .set_global_opts(\n",
    "        xaxis_opts=opts.AxisOpts(\n",
    "            type_=\"value\",\n",
    "            splitline_opts = opts.SplitLineOpts(is_show=True)\n",
    "        ),\n",
    "        yaxis_opts=opts.AxisOpts(\n",
    "            type_=\"value\",\n",
    "            axistick_opts = opts.AxisTickOpts(is_show=True),\n",
    "            splitline_opts = opts.SplitLineOpts(is_show=True),\n",
    "        ),\n",
    "        tooltip_opts=opts.TooltipOpts(\n",
    "            position = ['15%', '0%'],\n",
    "            formatter=JsCode(\n",
    "                \"\"\"function (params) {\n",
    "                  return\n",
    "                    params.data.timestamp + '<br>' +\n",
    "                    params.data.url + '<br>' +\n",
    "                    params.data.title;\n",
    "                }\"\"\"\n",
    "            )\n",
    "        ),\n",
    "        visualmap_opts = VISUALMAP_OPS,\n",
    "        datazoom_opts = [\n",
    "          opts.DataZoomOpts( range_start = 0, range_end = 100, filter_mode = \"none\", orient = 'horizontal' ),\n",
    "          opts.DataZoomOpts( range_start = 0, range_end = 100, filter_mode = \"none\", orient = 'vertical' ),\n",
    "          opts.DataZoomOpts( range_start = 0, range_end = 100, filter_mode = \"none\", type_ = \"inside\", orient = 'horizontal' ),\n",
    "          opts.DataZoomOpts( range_start = 0, range_end = 100, filter_mode = \"none\", type_ = \"inside\", orient = 'vertical' )\n",
    "        ],\n",
    "    )\n",
    "  )\n",
    "  current_scatter.render()\n",
    "\n",
    "  display( HTML(filename='render.html') )\n"
   ]
  },
  {
   "cell_type": "markdown",
   "id": "Owp07WRClDEI",
   "metadata": {
    "id": "Owp07WRClDEI"
   },
   "source": [
    "## Plot"
   ]
  },
  {
   "cell_type": "code",
   "execution_count": null,
   "id": "HNTsSQ1NjZ_e",
   "metadata": {
    "colab": {
     "base_uri": "https://localhost:8080/",
     "height": 869
    },
    "id": "HNTsSQ1NjZ_e",
    "outputId": "bfe95b6c-26e4-4669-9d4a-6e8f79c7c6c9"
   },
   "outputs": [],
   "source": [
    "visualize( df_earthquake_mini, emb_2d_earthquake_mini, cluster_labels = cluster_labels, compacting_label = False, dot_size = 2, quantile_transform=False, color_map = cm_hex )\n"
   ]
  },
  {
   "cell_type": "markdown",
   "id": "vFxVpDkyTg9o",
   "metadata": {
    "id": "vFxVpDkyTg9o"
   },
   "source": [
    "## Point Ranking"
   ]
  },
  {
   "cell_type": "code",
   "execution_count": null,
   "id": "YYhzuEz0IT-n",
   "metadata": {
    "colab": {
     "base_uri": "https://localhost:8080/",
     "height": 869
    },
    "id": "YYhzuEz0IT-n",
    "outputId": "5ec537e9-0206-4e9f-a533-5d7ce4eac6ba"
   },
   "outputs": [],
   "source": [
    "visualize(\n",
    "  df_earthquake_mini,\n",
    "  emb_2d_earthquake_mini,\n",
    "  visual_scale = point_freq,\n",
    "  compacting_label = False,\n",
    "  dot_size = 2,\n",
    "  # opacity = 0.9,\n",
    "  color_map = None,\n",
    "  quantile_transform=False\n",
    ")\n"
   ]
  },
  {
   "cell_type": "code",
   "execution_count": null,
   "id": "KfY0eg-SvRcf",
   "metadata": {
    "colab": {
     "base_uri": "https://localhost:8080/",
     "height": 869
    },
    "id": "KfY0eg-SvRcf",
    "outputId": "3d66fa1e-4051-4d20-b384-d0bd5b968ee5"
   },
   "outputs": [],
   "source": [
    "# Gaussian Mixture Density\n",
    "\n",
    "visualize(\n",
    "  df_earthquake_mini,\n",
    "  emb_2d_earthquake_mini,\n",
    "  visual_scale = point_bgm_scores,\n",
    "  compacting_label = False,\n",
    "  dot_size = 2,\n",
    "  # opacity = 0.9,\n",
    "  color_map = None,\n",
    "  quantile_transform=False\n",
    ")\n"
   ]
  },
  {
   "cell_type": "code",
   "execution_count": null,
   "id": "DkBDigTZNBVB",
   "metadata": {
    "id": "DkBDigTZNBVB"
   },
   "outputs": [],
   "source": [
    "cluster_domain_map = {}\n",
    "for cls in set(cluster_labels):\n",
    "    cluster_mask = (cluster_labels == cls)\n",
    "    df_filtered = df_earthquake_mini.loc[cluster_mask].copy()  # Use .copy() to explicitly create a copy\n",
    "    df_filtered[ \"domain\" ] = df_filtered.url.str.extract(\"//([^/]+)\" )\n",
    "    unique_domains = df_filtered[\"domain\"].unique()\n",
    "\n",
    "    cluster_domain_map[cls] = len(unique_domains)\n",
    "map_to_dots_domain = np.asarray( [cluster_domain_map[ cls ] for cls in cluster_labels] )\n"
   ]
  },
  {
   "cell_type": "code",
   "execution_count": null,
   "id": "Z4dV-vy9cKXW",
   "metadata": {
    "colab": {
     "base_uri": "https://localhost:8080/"
    },
    "id": "Z4dV-vy9cKXW",
    "outputId": "0a5d4db3-6b4a-413d-ced2-0cdcf55d1abb"
   },
   "outputs": [],
   "source": [
    "cls = 1\n",
    "#for cls in set( cluster_labels ):\n",
    "cluster_mask = (cluster_labels == cls)\n",
    "#print(emb_2d_earthquake_mini[cluster_mask])\n",
    "df_filtered = df_earthquake_mini.loc[cluster_mask].copy()  # Use .copy() to explicitly create a copy\n",
    "df_filtered[ \"domain\" ] = df_filtered.url.str.extract(\"//([^/]+)\" )\n",
    "out = df_filtered.domain.unique()\n",
    "out"
   ]
  },
  {
   "cell_type": "code",
   "execution_count": null,
   "id": "RIM4uoO0CyF5",
   "metadata": {
    "id": "RIM4uoO0CyF5"
   },
   "outputs": [],
   "source": [
    "# ## Mean density per cluster\n",
    "densities = []\n",
    "cluster_density_map = {}\n",
    "for cls in set(cluster_labels):\n",
    "    cluster_mask = (cluster_labels == cls)\n",
    "     #cluster_emb = np.array(emb_2d_earthquake_mini)[cluster_mask]  # Extract embedding data for the current cluster\n",
    "\n",
    "     #if len(cluster_emb) >= 10:  # Adjust the threshold as needed\n",
    "\n",
    "\n",
    "     # Compute the density of the cluster using score_samples\n",
    "    density = np.mean(point_bgm_scores[cluster_mask])\n",
    "\n",
    "     # Append the density to the list\n",
    "    densities.append(density)\n",
    "     #else:\n",
    "     #  densities.append(0)  # Set density to 0 if the number of data points is insufficient\n",
    "\n",
    "     # Map cluster label to density\n",
    "    cluster_density_map[cls] = density\n",
    "map_to_dots = np.asarray( [cluster_density_map[ cls ] for cls in cluster_labels] )\n"
   ]
  },
  {
   "cell_type": "code",
   "execution_count": null,
   "id": "HrIFB_yT08g4",
   "metadata": {
    "colab": {
     "base_uri": "https://localhost:8080/"
    },
    "id": "HrIFB_yT08g4",
    "outputId": "db93ae41-b5f7-4d50-8e18-8ae52f0980f3"
   },
   "outputs": [],
   "source": [
    "cluster_density_domain_map = {key: (cluster_density_map[key], cluster_domain_map[key], np.power(cluster_density_map[key], 0.5) * cluster_domain_map[key]) for key in cluster_domain_map.keys()}\n",
    "cluster_density_domain_map\n",
    "\n",
    "map_final_score_to_dots = np.asarray( [cluster_density_domain_map[ cls ][ 2 ] for cls in cluster_labels] )\n",
    "\n",
    "sorted_cluster_density = sorted(cluster_density_domain_map.items(), key=lambda x: x[1][2], reverse=True)\n",
    "sorted_cluster_density = [(item[0], item[1][0], item[1][1], item[1][2]) for item in sorted_cluster_density]\n",
    "sorted_cluster_density\n",
    "#test on turky\n",
    "#where is the earthquaque cluster ranked, how can we move it up to top?"
   ]
  },
  {
   "cell_type": "code",
   "execution_count": null,
   "id": "XRC2GQufqx5i",
   "metadata": {
    "colab": {
     "base_uri": "https://localhost:8080/",
     "height": 869
    },
    "id": "XRC2GQufqx5i",
    "outputId": "4decc1a0-e3b7-4db8-9586-c7ab8dad4b1a"
   },
   "outputs": [],
   "source": [
    "# Final score visualization per cluster\n",
    "\n",
    "visualize(\n",
    "  df_earthquake_mini,\n",
    "  emb_2d_earthquake_mini,\n",
    "  visual_scale = map_to_dots_domain,\n",
    "  compacting_label = False,\n",
    "  dot_size = 2,\n",
    "  # opacity = 0.9,\n",
    "  color_map = None,\n",
    "  quantile_transform=False\n",
    ")\n"
   ]
  },
  {
   "cell_type": "code",
   "execution_count": null,
   "id": "8ifGNZPMvLYg",
   "metadata": {
    "colab": {
     "base_uri": "https://localhost:8080/",
     "height": 869
    },
    "id": "8ifGNZPMvLYg",
    "outputId": "1e5055ca-5f98-4962-a1d9-267909e9b373"
   },
   "outputs": [],
   "source": [
    "# Final score visualization per cluster\n",
    "\n",
    "visualize(\n",
    "  df_earthquake_mini,\n",
    "  emb_2d_earthquake_mini,\n",
    "  visual_scale = point_bgm_probs*map_final_score_to_dots,\n",
    "  compacting_label = False,\n",
    "  dot_size = 2,\n",
    "  # opacity = 0.9,\n",
    "  color_map = None,\n",
    "  quantile_transform=False\n",
    ")\n"
   ]
  },
  {
   "cell_type": "code",
   "execution_count": null,
   "id": "KPCAH2NJuAgn",
   "metadata": {
    "colab": {
     "base_uri": "https://localhost:8080/"
    },
    "id": "KPCAH2NJuAgn",
    "outputId": "c55789e7-8c65-427e-8fec-90ab9c3700d9"
   },
   "outputs": [],
   "source": [
    "[row[0] for row in sorted_cluster_density[:10]]"
   ]
  },
  {
   "cell_type": "code",
   "execution_count": null,
   "id": "tI9OsmE5tQWn",
   "metadata": {
    "colab": {
     "base_uri": "https://localhost:8080/"
    },
    "id": "tI9OsmE5tQWn",
    "outputId": "3bfcf59a-d515-4b98-e092-cbb704c683cb"
   },
   "outputs": [],
   "source": [
    "\n",
    "(point_bgm_probs*map_final_score_to_dots).shape"
   ]
  },
  {
   "cell_type": "code",
   "execution_count": null,
   "id": "liWC2gOstFTe",
   "metadata": {
    "colab": {
     "base_uri": "https://localhost:8080/"
    },
    "id": "liWC2gOstFTe",
    "outputId": "4d651f87-8f0b-43d8-93ab-2a0f91a7d667"
   },
   "outputs": [],
   "source": [
    "point_bgm_probs.shape"
   ]
  },
  {
   "cell_type": "code",
   "execution_count": null,
   "id": "N07Bt1zItLPg",
   "metadata": {
    "colab": {
     "base_uri": "https://localhost:8080/"
    },
    "id": "N07Bt1zItLPg",
    "outputId": "9e348e2d-3dfa-4918-e710-c7790d85a891"
   },
   "outputs": [],
   "source": [
    "#Ranks the points within clusters by probability\n",
    "def rank_points_by_prob(cluster_labels, point_bgm_probs):\n",
    "    ranked_points = {}\n",
    "    for cls in set(cluster_labels):\n",
    "        points_in_cluster = np.where(cluster_labels == cls)[0]\n",
    "        probs = point_bgm_probs[points_in_cluster]\n",
    "        ranked_points[cls] = points_in_cluster[np.argsort(-probs)]\n",
    "    return ranked_points\n",
    "\n",
    "ranked_points = rank_points_by_prob(cluster_labels, point_bgm_probs)\n",
    "\n",
    "top_clusters = [row[0] for row in sorted_cluster_density[:10]]\n",
    "#Retrieves top 10 articles\n",
    "top_articles = {}\n",
    "for cls in top_clusters:\n",
    "    top_articles[cls] = df_earthquake_mini.iloc[ranked_points[cls][:10]]\n",
    "\n",
    "\n",
    "for ii, (cls, articles) in enumerate( top_articles.items() ):\n",
    "    print(f\"Top 10 articles for nr {ii + 1} cluster-{cls}:\")\n",
    "    for jj, (index, row) in enumerate( articles.iterrows() ):\n",
    "        print(f\"\\t{jj + 1}-th Title: {row['title']}\")\n",
    "        print(f\"\\t{jj + 1}-th URL: {row['url']}\")\n",
    "        print( \"\\t----\" )\n",
    "    print()"
   ]
  },
  {
   "cell_type": "code",
   "execution_count": null,
   "id": "6af48006-bf34-46cc-b262-fa2c1d8c709b",
   "metadata": {},
   "outputs": [],
   "source": []
  },
  {
   "cell_type": "code",
   "execution_count": null,
   "id": "821fd5c7-af54-4a29-b7ef-0d10c8625737",
   "metadata": {},
   "outputs": [],
   "source": []
  }
 ],
 "metadata": {
  "colab": {
   "provenance": []
  },
  "kernelspec": {
   "display_name": "Python 3 (ipykernel)",
   "language": "python",
   "name": "python3"
  },
  "language_info": {
   "codemirror_mode": {
    "name": "ipython",
    "version": 3
   },
   "file_extension": ".py",
   "mimetype": "text/x-python",
   "name": "python",
   "nbconvert_exporter": "python",
   "pygments_lexer": "ipython3",
   "version": "3.8.5"
  },
  "widgets": {
   "application/vnd.jupyter.widget-state+json": {
    "0d78ea48202741f39170b4c020149d61": {
     "model_module": "@jupyter-widgets/controls",
     "model_module_version": "1.5.0",
     "model_name": "FloatProgressModel",
     "state": {
      "_dom_classes": [],
      "_model_module": "@jupyter-widgets/controls",
      "_model_module_version": "1.5.0",
      "_model_name": "FloatProgressModel",
      "_view_count": null,
      "_view_module": "@jupyter-widgets/controls",
      "_view_module_version": "1.5.0",
      "_view_name": "ProgressView",
      "bar_style": "success",
      "description": "",
      "description_tooltip": null,
      "layout": "IPY_MODEL_be94b10e90534a389df751d736b15fed",
      "max": 500,
      "min": 0,
      "orientation": "horizontal",
      "style": "IPY_MODEL_0fea6e160d3e47d1a68a4cc70456d177",
      "value": 500
     }
    },
    "0fea6e160d3e47d1a68a4cc70456d177": {
     "model_module": "@jupyter-widgets/controls",
     "model_module_version": "1.5.0",
     "model_name": "ProgressStyleModel",
     "state": {
      "_model_module": "@jupyter-widgets/controls",
      "_model_module_version": "1.5.0",
      "_model_name": "ProgressStyleModel",
      "_view_count": null,
      "_view_module": "@jupyter-widgets/base",
      "_view_module_version": "1.2.0",
      "_view_name": "StyleView",
      "bar_color": null,
      "description_width": ""
     }
    },
    "1bbaf7e5a885437db43c79f81cbc9316": {
     "model_module": "@jupyter-widgets/controls",
     "model_module_version": "1.5.0",
     "model_name": "DescriptionStyleModel",
     "state": {
      "_model_module": "@jupyter-widgets/controls",
      "_model_module_version": "1.5.0",
      "_model_name": "DescriptionStyleModel",
      "_view_count": null,
      "_view_module": "@jupyter-widgets/base",
      "_view_module_version": "1.2.0",
      "_view_name": "StyleView",
      "description_width": ""
     }
    },
    "269e7b6224884c9389ff306768fb1460": {
     "model_module": "@jupyter-widgets/controls",
     "model_module_version": "1.5.0",
     "model_name": "DescriptionStyleModel",
     "state": {
      "_model_module": "@jupyter-widgets/controls",
      "_model_module_version": "1.5.0",
      "_model_name": "DescriptionStyleModel",
      "_view_count": null,
      "_view_module": "@jupyter-widgets/base",
      "_view_module_version": "1.2.0",
      "_view_name": "StyleView",
      "description_width": ""
     }
    },
    "29f5da79fa164cafb90e1e408c3f6690": {
     "model_module": "@jupyter-widgets/base",
     "model_module_version": "1.2.0",
     "model_name": "LayoutModel",
     "state": {
      "_model_module": "@jupyter-widgets/base",
      "_model_module_version": "1.2.0",
      "_model_name": "LayoutModel",
      "_view_count": null,
      "_view_module": "@jupyter-widgets/base",
      "_view_module_version": "1.2.0",
      "_view_name": "LayoutView",
      "align_content": null,
      "align_items": null,
      "align_self": null,
      "border": null,
      "bottom": null,
      "display": null,
      "flex": null,
      "flex_flow": null,
      "grid_area": null,
      "grid_auto_columns": null,
      "grid_auto_flow": null,
      "grid_auto_rows": null,
      "grid_column": null,
      "grid_gap": null,
      "grid_row": null,
      "grid_template_areas": null,
      "grid_template_columns": null,
      "grid_template_rows": null,
      "height": null,
      "justify_content": null,
      "justify_items": null,
      "left": null,
      "margin": null,
      "max_height": null,
      "max_width": null,
      "min_height": null,
      "min_width": null,
      "object_fit": null,
      "object_position": null,
      "order": null,
      "overflow": null,
      "overflow_x": null,
      "overflow_y": null,
      "padding": null,
      "right": null,
      "top": null,
      "visibility": null,
      "width": null
     }
    },
    "32386a4f1e644a7c9a49bf33a213096d": {
     "model_module": "@jupyter-widgets/base",
     "model_module_version": "1.2.0",
     "model_name": "LayoutModel",
     "state": {
      "_model_module": "@jupyter-widgets/base",
      "_model_module_version": "1.2.0",
      "_model_name": "LayoutModel",
      "_view_count": null,
      "_view_module": "@jupyter-widgets/base",
      "_view_module_version": "1.2.0",
      "_view_name": "LayoutView",
      "align_content": null,
      "align_items": null,
      "align_self": null,
      "border": null,
      "bottom": null,
      "display": null,
      "flex": null,
      "flex_flow": null,
      "grid_area": null,
      "grid_auto_columns": null,
      "grid_auto_flow": null,
      "grid_auto_rows": null,
      "grid_column": null,
      "grid_gap": null,
      "grid_row": null,
      "grid_template_areas": null,
      "grid_template_columns": null,
      "grid_template_rows": null,
      "height": null,
      "justify_content": null,
      "justify_items": null,
      "left": null,
      "margin": null,
      "max_height": null,
      "max_width": null,
      "min_height": null,
      "min_width": null,
      "object_fit": null,
      "object_position": null,
      "order": null,
      "overflow": null,
      "overflow_x": null,
      "overflow_y": null,
      "padding": null,
      "right": null,
      "top": null,
      "visibility": null,
      "width": null
     }
    },
    "88a93ac765cd47318dedbd907d2cc11d": {
     "model_module": "@jupyter-widgets/controls",
     "model_module_version": "1.5.0",
     "model_name": "HTMLModel",
     "state": {
      "_dom_classes": [],
      "_model_module": "@jupyter-widgets/controls",
      "_model_module_version": "1.5.0",
      "_model_name": "HTMLModel",
      "_view_count": null,
      "_view_module": "@jupyter-widgets/controls",
      "_view_module_version": "1.5.0",
      "_view_name": "HTMLView",
      "description": "",
      "description_tooltip": null,
      "layout": "IPY_MODEL_e0d02101f6b64bfdaabe20684fff47e4",
      "placeholder": "​",
      "style": "IPY_MODEL_269e7b6224884c9389ff306768fb1460",
      "value": " 500/500 [00:34]"
     }
    },
    "be94b10e90534a389df751d736b15fed": {
     "model_module": "@jupyter-widgets/base",
     "model_module_version": "1.2.0",
     "model_name": "LayoutModel",
     "state": {
      "_model_module": "@jupyter-widgets/base",
      "_model_module_version": "1.2.0",
      "_model_name": "LayoutModel",
      "_view_count": null,
      "_view_module": "@jupyter-widgets/base",
      "_view_module_version": "1.2.0",
      "_view_name": "LayoutView",
      "align_content": null,
      "align_items": null,
      "align_self": null,
      "border": null,
      "bottom": null,
      "display": null,
      "flex": null,
      "flex_flow": null,
      "grid_area": null,
      "grid_auto_columns": null,
      "grid_auto_flow": null,
      "grid_auto_rows": null,
      "grid_column": null,
      "grid_gap": null,
      "grid_row": null,
      "grid_template_areas": null,
      "grid_template_columns": null,
      "grid_template_rows": null,
      "height": null,
      "justify_content": null,
      "justify_items": null,
      "left": null,
      "margin": null,
      "max_height": null,
      "max_width": null,
      "min_height": null,
      "min_width": null,
      "object_fit": null,
      "object_position": null,
      "order": null,
      "overflow": null,
      "overflow_x": null,
      "overflow_y": null,
      "padding": null,
      "right": null,
      "top": null,
      "visibility": null,
      "width": null
     }
    },
    "c150b934102f4394965b0e6e5795e8f9": {
     "model_module": "@jupyter-widgets/controls",
     "model_module_version": "1.5.0",
     "model_name": "HTMLModel",
     "state": {
      "_dom_classes": [],
      "_model_module": "@jupyter-widgets/controls",
      "_model_module_version": "1.5.0",
      "_model_name": "HTMLModel",
      "_view_count": null,
      "_view_module": "@jupyter-widgets/controls",
      "_view_module_version": "1.5.0",
      "_view_name": "HTMLView",
      "description": "",
      "description_tooltip": null,
      "layout": "IPY_MODEL_32386a4f1e644a7c9a49bf33a213096d",
      "placeholder": "​",
      "style": "IPY_MODEL_1bbaf7e5a885437db43c79f81cbc9316",
      "value": "Epochs completed: 100%| "
     }
    },
    "e0d02101f6b64bfdaabe20684fff47e4": {
     "model_module": "@jupyter-widgets/base",
     "model_module_version": "1.2.0",
     "model_name": "LayoutModel",
     "state": {
      "_model_module": "@jupyter-widgets/base",
      "_model_module_version": "1.2.0",
      "_model_name": "LayoutModel",
      "_view_count": null,
      "_view_module": "@jupyter-widgets/base",
      "_view_module_version": "1.2.0",
      "_view_name": "LayoutView",
      "align_content": null,
      "align_items": null,
      "align_self": null,
      "border": null,
      "bottom": null,
      "display": null,
      "flex": null,
      "flex_flow": null,
      "grid_area": null,
      "grid_auto_columns": null,
      "grid_auto_flow": null,
      "grid_auto_rows": null,
      "grid_column": null,
      "grid_gap": null,
      "grid_row": null,
      "grid_template_areas": null,
      "grid_template_columns": null,
      "grid_template_rows": null,
      "height": null,
      "justify_content": null,
      "justify_items": null,
      "left": null,
      "margin": null,
      "max_height": null,
      "max_width": null,
      "min_height": null,
      "min_width": null,
      "object_fit": null,
      "object_position": null,
      "order": null,
      "overflow": null,
      "overflow_x": null,
      "overflow_y": null,
      "padding": null,
      "right": null,
      "top": null,
      "visibility": null,
      "width": null
     }
    },
    "f6ecf1bc5a2349d29c1e2da275c8f147": {
     "model_module": "@jupyter-widgets/controls",
     "model_module_version": "1.5.0",
     "model_name": "HBoxModel",
     "state": {
      "_dom_classes": [],
      "_model_module": "@jupyter-widgets/controls",
      "_model_module_version": "1.5.0",
      "_model_name": "HBoxModel",
      "_view_count": null,
      "_view_module": "@jupyter-widgets/controls",
      "_view_module_version": "1.5.0",
      "_view_name": "HBoxView",
      "box_style": "",
      "children": [
       "IPY_MODEL_c150b934102f4394965b0e6e5795e8f9",
       "IPY_MODEL_0d78ea48202741f39170b4c020149d61",
       "IPY_MODEL_88a93ac765cd47318dedbd907d2cc11d"
      ],
      "layout": "IPY_MODEL_29f5da79fa164cafb90e1e408c3f6690"
     }
    }
   }
  }
 },
 "nbformat": 4,
 "nbformat_minor": 5
}
